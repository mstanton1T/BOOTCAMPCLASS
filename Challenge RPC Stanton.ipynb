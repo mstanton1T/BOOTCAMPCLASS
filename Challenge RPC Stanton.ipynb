{
 "cells": [
  {
   "cell_type": "markdown",
   "metadata": {},
   "source": [
    "## Challenge: Rock, Paper, Scissors"
   ]
  },
  {
   "cell_type": "markdown",
   "metadata": {},
   "source": [
    "## Purpose\n",
    "Create a game where the user can play a game of rock, paper, scissors against a computer. Set a play choice (rock, paper, or scissors) for the computer player and during the program, request for the user to input their play choice.\n",
    "\n",
    "The rules in Rock, Paper, Scissors are:\n",
    "\n",
    "    Rock beats scissors\n",
    "    Scissors beats paper\n",
    "    Paper beats rock\n",
    "\n",
    "If the user wins, then display \"You win!\" If they lose against the computer, then display \"You lose.\" If the computer and the user have the same play choice, display \"It's a draw.\"\n",
    "\n",
    "Also ask the user if they would like to play again. If they do, start the game again but if not, thank the user for playing the game."
   ]
  },
  {
   "cell_type": "markdown",
   "metadata": {},
   "source": [
    "## 1. Create a Welcome Message"
   ]
  },
  {
   "cell_type": "code",
   "execution_count": 1,
   "metadata": {},
   "outputs": [
    {
     "name": "stdout",
     "output_type": "stream",
     "text": [
      "Welcome to Rock, Paper, Scissors\n"
     ]
    }
   ],
   "source": [
    "print(\"Welcome to Rock, Paper, Scissors!\")"
   ]
  },
  {
   "cell_type": "markdown",
   "metadata": {},
   "source": [
    "## 2. Define the choices"
   ]
  },
  {
   "cell_type": "code",
   "execution_count": 4,
   "metadata": {},
   "outputs": [],
   "source": [
    "#random CPU selection\n",
    "    options = [\"rock\",\"paper\",\"scissors\"]\n",
    "    cpu_choice = options[rand.randint(0,2)]\n",
    "\n",
    "#User Choice \"Rock\" \"Paper\" or \"Scissors\"\n",
    "    user_choice = input (\"Choose Rock, Paper, or Scissors: \").lower()\n"
   ]
  },
  {
   "cell_type": "markdown",
   "metadata": {},
   "source": [
    "## 3. Create the game logic"
   ]
  },
  {
   "cell_type": "markdown",
   "metadata": {},
   "source": [
    "#### Hint: think about if/elif/Else\n",
    "#### Hint: have the computer randomly select a choice. "
   ]
  },
  {
   "cell_type": "code",
   "execution_count": 43,
   "metadata": {},
   "outputs": [
    {
     "ename": "IndentationError",
     "evalue": "unexpected indent (846032572.py, line 11)",
     "output_type": "error",
     "traceback": [
      "\u001b[1;36m  File \u001b[1;32m\"C:\\Users\\14012\\AppData\\Local\\Temp\\ipykernel_20588\\846032572.py\"\u001b[1;36m, line \u001b[1;32m11\u001b[0m\n\u001b[1;33m    print(\"Rock Beats Scissors, Scissors beats Paper, Paper beats Rock\")\\n\u001b[0m\n\u001b[1;37m    ^\u001b[0m\n\u001b[1;31mIndentationError\u001b[0m\u001b[1;31m:\u001b[0m unexpected indent\n"
     ]
    }
   ],
   "source": [
    "newgame = \"y\" \n",
    "\n",
    "while newgame != \"n\":\n",
    "    import random as rand\n",
    "\n",
    "#random CPU selection\n",
    "    options = [\"rock\",\"paper\",\"scissors\"]\n",
    "    cpu_choice = options[rand.randint(0,2)]\n",
    "\n",
    "#User Choice \"Rock\" \"Paper\" or \"Scissors\"\n",
    "    print(\"Rock Beats Scissors, Scissors beats Paper, Paper beats Rock\"/n)\n",
    "    user_choice = input (\"Choose Rock, Paper, or Scissors: \").lower()\n",
    "\n",
    "    if user_choice == \"Rock\" or user_choice == \"rock\":  \n",
    "        if cpu_choice == \"rock\":\n",
    "            print(\"CPU chooses rock, its a draw\")\n",
    "        elif cpu_choice == \"scissors\":\n",
    "            print(\"CPU chooses scissors, you win!\")\n",
    "        elif cpu_choice == \"paper\":\n",
    "            print(\"CPU chooses paper, you lose\")\n",
    "       \n",
    "    elif user_choice == \"Paper\"  or user_choice == \"paper\":\n",
    "        if cpu_choice == \"rock\":\n",
    "            print(\"CPU chooses paper, you win!\")\n",
    "        elif cpu_choice == \"scissors\":\n",
    "            print(\"CPU chooses scissors, you lose\")\n",
    "        elif cpu_choice == \"paper\":\n",
    "            print(\"CPU chooses paper, its a draw\")\n",
    "   \n",
    "    elif user_choice == \"Scissors\" or \"scissors\":\n",
    "        if cpu_choice == \"rock\":\n",
    "            print(\"CPU chooses rock, you lose\")\n",
    "        elif cpu_choice == \"scissors\":\n",
    "            print(\"CPU chooses scissors, its a draw\")\n",
    "        elif cpu_choice == \"paper\":\n",
    "            print(\"CPU chooses paper, you win!\")\n",
    "    newgame_choice = input (\"play again? type yes or no: \")\n",
    "    if newgame_choice == \"yes\":\n",
    "        newgame = \"y\"\n",
    "    elif newgame_choice == \"no\":\n",
    "        newgame = \"n\"\n",
    "        print(\"thanks for playing! \")\n",
    "        "
   ]
  },
  {
   "cell_type": "markdown",
   "metadata": {},
   "source": [
    "# Bonus"
   ]
  },
  {
   "cell_type": "markdown",
   "metadata": {},
   "source": [
    "## 1. Include the rules of the game for a new user"
   ]
  },
  {
   "cell_type": "code",
   "execution_count": 45,
   "metadata": {},
   "outputs": [
    {
     "name": "stdout",
     "output_type": "stream",
     "text": [
      "Rock Beats Scissors, Scissors beats Paper, Paper beats Rock\n"
     ]
    }
   ],
   "source": [
    " print(\"Rock Beats Scissors, Scissors beats Paper, Paper beats Rock\")"
   ]
  },
  {
   "cell_type": "markdown",
   "metadata": {},
   "source": [
    "## 2. Add only valid inputs for rock, paper, scissor choice AND guided message"
   ]
  },
  {
   "cell_type": "markdown",
   "metadata": {},
   "source": [
    "#### Hint: use a function"
   ]
  },
  {
   "cell_type": "code",
   "execution_count": null,
   "metadata": {},
   "outputs": [],
   "source": [
    "else: user_choice != \"Scissors\" or \"scissors\" or \"Paper\"  or \"paper\" or \"Rock\" or \"rock\" \n",
    "    print(\"please select Rock, Paper, or Scissors only!\")"
   ]
  },
  {
   "cell_type": "markdown",
   "metadata": {},
   "source": [
    "## 3. Add only valid inputs for continuing to play the game AND guided message"
   ]
  },
  {
   "cell_type": "markdown",
   "metadata": {},
   "source": [
    "#### Hint: use a function"
   ]
  },
  {
   "cell_type": "code",
   "execution_count": null,
   "metadata": {},
   "outputs": [],
   "source": []
  },
  {
   "cell_type": "markdown",
   "metadata": {},
   "source": [
    "## 4. Put all together in one cell"
   ]
  },
  {
   "cell_type": "code",
   "execution_count": 59,
   "metadata": {},
   "outputs": [
    {
     "name": "stdout",
     "output_type": "stream",
     "text": [
      "Welcome to Rock, Paper, Scissors!\n",
      "Rock Beats Scissors, Scissors beats Paper, Paper beats Rock\n",
      "Choose Rock, Paper, or Scissors: rock\n",
      "CPU chooses paper, you lose\n",
      "please select Rock, Paper, or Scissors only!\n",
      "play again? type yes or no: no\n",
      "thanks for playing! \n"
     ]
    }
   ],
   "source": [
    "newgame = \"y\" \n",
    "\n",
    "while newgame != \"n\":\n",
    "    print(\"Welcome to Rock, Paper, Scissors!\")\n",
    "    #instructions    \n",
    "    print(\"Rock Beats Scissors, Scissors beats Paper, Paper beats Rock\")\n",
    "    import random as rand\n",
    "\n",
    "#random CPU selection\n",
    "    options = [\"rock\",\"paper\",\"scissors\"]\n",
    "    cpu_choice = options[rand.randint(0,2)]\n",
    "   \n",
    "#User Choice \"Rock\" \"Paper\" or \"Scissors\"\n",
    "    user_choice = input (\"Choose Rock, Paper, or Scissors: \").lower()\n",
    "\n",
    "    if user_choice == \"Rock\" or \"rock\":  \n",
    "        if cpu_choice == \"rock\":\n",
    "            print(\"CPU chooses rock, its a draw\")\n",
    "        elif cpu_choice == \"scissors\":\n",
    "            print(\"CPU chooses scissors, you win!\")\n",
    "        elif cpu_choice == \"paper\":\n",
    "            print(\"CPU chooses paper, you lose\")\n",
    "                   \n",
    "    elif user_choice == \"Paper\"  or \"paper\":\n",
    "        if cpu_choice == \"rock\":\n",
    "            print(\"CPU chooses paper, you win!\")\n",
    "        elif cpu_choice == \"scissors\":\n",
    "            print(\"CPU chooses scissors, you lose\")\n",
    "        elif cpu_choice == \"paper\":\n",
    "            print(\"CPU chooses paper, its a draw\")\n",
    "   \n",
    "    elif user_choice == \"Scissors\" or \"scissors\":\n",
    "        if cpu_choice == \"rock\":\n",
    "            print(\"CPU chooses rock, you lose\")\n",
    "        elif cpu_choice == \"scissors\":\n",
    "            print(\"CPU chooses scissors, its a draw\")\n",
    "        elif cpu_choice == \"paper\":\n",
    "            print(\"CPU chooses paper, you win!\")\n",
    "           \n",
    "    else: user_choice != \"Scissors\" or \"scissors\" or \"Paper\"  or \"paper\" or \"Rock\" or \"rock\" \n",
    "    print(\"please select Rock, Paper, or Scissors only!\")\n",
    "            \n",
    "    newgame_choice = input (\"play again? type yes or no: \")\n",
    "    if newgame_choice == \"yes\":\n",
    "        newgame = \"y\"\n",
    "    elif newgame_choice == \"no\":\n",
    "        newgame = \"n\"\n",
    "        print(\"thanks for playing! \")\n",
    "        "
   ]
  },
  {
   "cell_type": "code",
   "execution_count": null,
   "metadata": {},
   "outputs": [],
   "source": []
  }
 ],
 "metadata": {
  "kernelspec": {
   "display_name": "Python 3 (ipykernel)",
   "language": "python",
   "name": "python3"
  },
  "language_info": {
   "codemirror_mode": {
    "name": "ipython",
    "version": 3
   },
   "file_extension": ".py",
   "mimetype": "text/x-python",
   "name": "python",
   "nbconvert_exporter": "python",
   "pygments_lexer": "ipython3",
   "version": "3.9.13"
  }
 },
 "nbformat": 4,
 "nbformat_minor": 4
}
